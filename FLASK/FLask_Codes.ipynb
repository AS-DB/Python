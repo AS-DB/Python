{
 "cells": [
  {
   "cell_type": "markdown",
   "metadata": {},
   "source": [
    "Hello_world.py"
   ]
  },
  {
   "cell_type": "code",
   "execution_count": null,
   "metadata": {},
   "outputs": [],
   "source": [
    "from  flask import Flask\n",
    "\n",
    "app= Flask(__name__)\n",
    "\n",
    "@app.route('/')\n",
    "def hello_world():\n",
    "    return \"hello world\"\n",
    "\n",
    "if __name__==\"__main__\":\n",
    "    app.run (debug=True) "
   ]
  },
  {
   "cell_type": "markdown",
   "metadata": {},
   "source": [
    "Data_types.py"
   ]
  },
  {
   "cell_type": "code",
   "execution_count": null,
   "metadata": {},
   "outputs": [],
   "source": [
    "from  flask import Flask ,redirect,url_for\n",
    "\n",
    "\n",
    "app= Flask(__name__)\n",
    "\n",
    "@app.route('/')\n",
    "def hello_world():\n",
    "    return \"Hello USer\"\n",
    "\n",
    "#string\n",
    "@app.route('/admin')\n",
    "def admin():\n",
    "    return \"Hi ADMIN!\"\n",
    "#Int\n",
    "@app.route('/<int:num>')\n",
    "def square(num):\n",
    "    return \"square of {} is {}\".format(num,num*num)\n",
    "\n",
    "# Route to handle multiple integers\n",
    "@app.route('/sum/<int:num1>/<int:num2>')\n",
    "def sum_of_numbers(num1, num2):\n",
    "    total = num1 + num2\n",
    "    return \"Sum of {} and {} is {}\".format(num1, num2, total)\n",
    "\n",
    "if __name__==\"__main__\":\n",
    "    app.run (debug=True) "
   ]
  },
  {
   "cell_type": "markdown",
   "metadata": {},
   "source": [
    "Dynammic_url.py"
   ]
  },
  {
   "cell_type": "code",
   "execution_count": null,
   "metadata": {},
   "outputs": [],
   "source": [
    "from  flask import Flask ,redirect,url_for\n",
    "\n",
    "\n",
    "app= Flask(__name__)\n",
    "\n",
    "@app.route('/')\n",
    "def hello_world():\n",
    "    return \"Hello USer\"\n",
    "\n",
    "@app.route('/admin')\n",
    "def admin():\n",
    "    return \"Hi ADMIN!\"\n",
    "\n",
    "#string url passing in function\n",
    "@app.route('/<guest>')\n",
    "def guest1(guest):\n",
    "    return \"hello {}\".format(guest)\n",
    "\n",
    "#using redirect and url_for\n",
    "@app.route('/user/<name>')\n",
    "def hello_user(name):\n",
    "    if name=='admin':\n",
    "        return redirect(url_for('admin'))\n",
    "    else:\n",
    "        return redirect(url_for('guest1',guest1=name))\n",
    "\n",
    "\n",
    "\n",
    "if __name__==\"__main__\":\n",
    "    app.run (debug=True) "
   ]
  },
  {
   "cell_type": "markdown",
   "metadata": {},
   "source": [
    "Https.py , Form.html"
   ]
  },
  {
   "cell_type": "code",
   "execution_count": null,
   "metadata": {},
   "outputs": [],
   "source": [
    "#Https.py:\n",
    "from  flask import Flask ,redirect,url_for,request\n",
    "\n",
    "\n",
    "app= Flask(__name__)\n",
    "\n",
    "@app.route('/')\n",
    "def hello():\n",
    "    return \"hello\"\n",
    "\n",
    "@app.route('/welcome/<guest>')\n",
    "def guest1(guest):\n",
    "    return \"hello {}\".format(guest)\n",
    "\n",
    "\n",
    "@app.route('/login',methods=['POST','GET'])\n",
    "\n",
    "def login():\n",
    "    if request.method=='POST':\n",
    "        user=request.form['nm']\n",
    "        return redirect(url_for('guest1',guest=user))\n",
    "    else:\n",
    "        user=request.args.get('nm')\n",
    "        return redirect(url_for('guest1',guest=user))\n",
    "\n",
    "\n",
    "\n",
    "if __name__==\"__main__\":\n",
    "    app.run (debug=True) "
   ]
  },
  {
   "cell_type": "code",
   "execution_count": null,
   "metadata": {
    "vscode": {
     "languageId": "html"
    }
   },
   "outputs": [],
   "source": [
    "<!--Form.html-->\n",
    "<!DOCTYPE html>\n",
    "<html lang=\"en\">\n",
    "<head>\n",
    "    <meta charset=\"UTF-8\">\n",
    "    <meta name=\"viewport\" content=\"width=device-width, initial-scale=1.0\">\n",
    "    <title>Form</title>\n",
    "</head>\n",
    "<body>\n",
    "    <form action=\"http://localhost:5000/login\" method=\"post\">\n",
    "\n",
    "        <p>Enter the Name:</p>\n",
    "        <p><input type=\"text\" name=\"nm\"></p>\n",
    "        <p><input type=\"submit\" value=\"submit\"></p>\n",
    "    </form>\n",
    "</body>\n",
    "</html>"
   ]
  },
  {
   "cell_type": "markdown",
   "metadata": {},
   "source": [
    "Template.py"
   ]
  },
  {
   "cell_type": "code",
   "execution_count": null,
   "metadata": {},
   "outputs": [],
   "source": [
    "from flask import Flask,render_template\n",
    "\n",
    "app = Flask(__name__)\n",
    "\n",
    "#using html tag in Flask\n",
    "@app.route('/a')\n",
    "def index1():\n",
    "    s1='''\n",
    "    <h1>Hello</h1>\n",
    "'''\n",
    "    return s1\n",
    "\n",
    "#using rendered_template\n",
    "@app.route('/')\n",
    "def index():\n",
    "    return render_template('hello.html')\n",
    "\n",
    "if __name__=='__main__':\n",
    "    app.run(debug=True)"
   ]
  },
  {
   "cell_type": "markdown",
   "metadata": {},
   "source": [
    "Static.py,index.html,hello.js"
   ]
  },
  {
   "cell_type": "code",
   "execution_count": null,
   "metadata": {},
   "outputs": [],
   "source": [
    "#static.py\n",
    "from flask import Flask, render_template\n",
    "\n",
    "app=Flask(__name__)\n",
    "\n",
    "@app.route(\"/\")\n",
    "def index():\n",
    "    return render_template(\"index.html\")\n",
    "\n",
    "if __name__==\"__main__\":\n",
    "    app.run(debug=True)"
   ]
  },
  {
   "cell_type": "code",
   "execution_count": null,
   "metadata": {
    "vscode": {
     "languageId": "html"
    }
   },
   "outputs": [],
   "source": [
    "<!--index.html-->\n",
    "<html>\n",
    "    <head>\n",
    "        <script type=\"text/javascript\" src=\"{{url_for('static',filename='hello.js')}}\"> </script>\n",
    "    </head>\n",
    "    <body>\n",
    "        <input type=\"button\" onclick=\"sayHello()\" value=\"Say Hello\"/>\n",
    "    </body>\n",
    "</html> "
   ]
  },
  {
   "cell_type": "code",
   "execution_count": null,
   "metadata": {
    "vscode": {
     "languageId": "javascript"
    }
   },
   "outputs": [],
   "source": [
    "//hello.js\n",
    "function sayHello(){\n",
    "    alert(\"Hello world\")\n",
    "}"
   ]
  },
  {
   "cell_type": "markdown",
   "metadata": {},
   "source": [
    "student.html,result.html,Request_object.py"
   ]
  },
  {
   "cell_type": "code",
   "execution_count": null,
   "metadata": {
    "vscode": {
     "languageId": "html"
    }
   },
   "outputs": [],
   "source": [
    "<!--Student.html-->\n",
    "<!DOCTYPE html>\n",
    "<html lang=\"en\">\n",
    "<head>\n",
    "    <meta charset=\"UTF-8\">\n",
    "    <meta name=\"viewport\" content=\"width=device-width, initial-scale=1.0\">\n",
    "    <title>Document</title>\n",
    "</head>\n",
    "<body>\n",
    "    <form action=\"http://localhost:5000/result\" method=\"post\">\n",
    "\n",
    "        <p>Enter the Name:</p>\n",
    "        <p><input type=\"text\" name=\"Name\"></p>\n",
    "\n",
    "        <p>IOT</p>\n",
    "        <p><input type=\"text\" name=\"IOT\"></p>\n",
    "\n",
    "        <p>CD</p>\n",
    "        <p><input type=\"text\" name=\"CD\"></p>\n",
    "\n",
    "        <p>MPMC</p>\n",
    "        <p><input type=\"text\" name=\"MPMC\"></p>\n",
    "\n",
    "        <p><input type=\"submit\" value=\"Submit\"></p>\n",
    "    </form>\n",
    "</body>\n",
    "</html>"
   ]
  },
  {
   "cell_type": "code",
   "execution_count": null,
   "metadata": {
    "vscode": {
     "languageId": "html"
    }
   },
   "outputs": [],
   "source": [
    "<!--result.html-->\n",
    "<!DOCTYPE html>\n",
    "<html lang=\"en\">\n",
    "<head>\n",
    "    <meta charset=\"UTF-8\">\n",
    "    <meta name=\"viewport\" content=\"width=device-width, initial-scale=1.0\">\n",
    "    <title>Result</title>\n",
    "</head>\n",
    "<body>\n",
    "    <table border=\"2px\">\n",
    "        {% for key, value in result.items() %}\n",
    "        <tr>\n",
    "            <th>{{ key }}</th>\n",
    "            <td>{{ value }}</td>\n",
    "        </tr>\n",
    "        {% endfor %}\n",
    "    </table>\n",
    "</body>\n",
    "</html>"
   ]
  },
  {
   "cell_type": "code",
   "execution_count": null,
   "metadata": {},
   "outputs": [],
   "source": [
    "#Request_object.py\n",
    "from flask import Flask, render_template, request\n",
    "\n",
    "app = Flask(__name__)\n",
    "\n",
    "@app.route('/')\n",
    "def hello():\n",
    "    return render_template('student.html')\n",
    "\n",
    "@app.route('/result', methods=['POST', 'GET'])\n",
    "def result():\n",
    "    if request.method == 'POST':\n",
    "        result = request.form \n",
    "        return render_template(\"result.html\", result=result)\n",
    "\n",
    "if __name__ == \"__main__\":\n",
    "    app.run(debug=True)"
   ]
  },
  {
   "cell_type": "markdown",
   "metadata": {},
   "source": [
    "cookie.py,setcookie.html,readcookie.html"
   ]
  },
  {
   "cell_type": "code",
   "execution_count": null,
   "metadata": {},
   "outputs": [],
   "source": [
    "#cookie.py\n",
    "from flask import Flask, render_template, request, make_response\n",
    "from datetime import timedelta\n",
    "\n",
    "app = Flask(__name__)\n",
    "\n",
    "@app.route('/')\n",
    "def index():\n",
    "    return render_template('setcookie.html')\n",
    "\n",
    "@app.route('/setcookie', methods=['POST', 'GET'])\n",
    "def setcookie():\n",
    "    if request.method == 'POST':\n",
    "        user = request.form['nm']\n",
    "        resp = make_response(render_template('readcookie.html'))\n",
    "        resp.set_cookie('userID', user,max_age=timedelta(days=30))  \n",
    "        return resp\n",
    "\n",
    "@app.route('/getcookie')\n",
    "def getcookie():\n",
    "    name = request.cookies.get('userID')  \n",
    "    return f\"<h1> Welcome {name} </h1>\"\n",
    "\n",
    "if __name__ == '__main__':\n",
    "    app.run(debug=True)"
   ]
  },
  {
   "cell_type": "code",
   "execution_count": null,
   "metadata": {
    "vscode": {
     "languageId": "html"
    }
   },
   "outputs": [],
   "source": [
    "<!--setcookie.html-->\n",
    "<!DOCTYPE html>\n",
    "<html lang=\"en\">\n",
    "<head>\n",
    "    <meta charset=\"UTF-8\">\n",
    "    <meta name=\"viewport\" content=\"width=device-width, initial-scale=1.0\">\n",
    "    <title>Document</title>\n",
    "</head>\n",
    "<body>\n",
    "    <form action=\"/setcookie\" method=\"POST\">\n",
    "\n",
    "        <p><h3>Enter UserId </h3></p>\n",
    "        <p><input type=\"text\" name='nm'></p>\n",
    "        <p><input type=\"submit\"></p>    \n",
    "        </form>\n",
    "</body>\n",
    "</html>"
   ]
  },
  {
   "cell_type": "code",
   "execution_count": null,
   "metadata": {
    "vscode": {
     "languageId": "html"
    }
   },
   "outputs": [],
   "source": [
    "<!--readcookie.html-->\n",
    "<!DOCTYPE html>\n",
    "<html lang=\"en\">\n",
    "<head>\n",
    "    <meta charset=\"UTF-8\">\n",
    "    <meta name=\"viewport\" content=\"width=device-width, initial-scale=1.0\">\n",
    "    <title>Document</title>\n",
    "</head>\n",
    "<body>\n",
    "    <a href=\"http://localhost:5000/getcookie\">Click me to read cookie</a>\n",
    "</body>\n",
    "</html>"
   ]
  },
  {
   "cell_type": "markdown",
   "metadata": {},
   "source": [
    "redirect.py,login.html"
   ]
  },
  {
   "cell_type": "code",
   "execution_count": null,
   "metadata": {},
   "outputs": [],
   "source": [
    "#redirect.py\n",
    "from flask import Flask,redirect,url_for,render_template,request\n",
    "\n",
    "app=Flask(__name__)\n",
    "\n",
    "@app.route('/')\n",
    "def index():\n",
    "    return render_template('login.html')\n",
    "\n",
    "\n",
    "@app.route('/login', methods=['POST', 'GET'])\n",
    "def login():\n",
    "    if request.method == 'POST':\n",
    "        if request.form['nm']=='admin':\n",
    "            return redirect(url_for('success'))\n",
    "        return redirect(url_for('index'))\n",
    "\n",
    "@app.route('/success')\n",
    "def success():\n",
    "    return \"<h1>Logged in succesfully!</h1>\"\n",
    "\n",
    "if __name__=='__main__':\n",
    "    app.run()"
   ]
  },
  {
   "cell_type": "code",
   "execution_count": null,
   "metadata": {
    "vscode": {
     "languageId": "html"
    }
   },
   "outputs": [],
   "source": [
    "<!--login.html-->\n",
    "<!DOCTYPE html>\n",
    "<html lang=\"en\">\n",
    "<head>\n",
    "    <meta charset=\"UTF-8\">\n",
    "    <meta name=\"viewport\" content=\"width=device-width, initial-scale=1.0\">\n",
    "    <title>Document</title>\n",
    "</head>\n",
    "<body>\n",
    "    <form action=\"{{ url_for('login') }}\" method=\"POST\">\n",
    "\n",
    "        <p><h3>Enter UserId </h3></p>\n",
    "        <p><input type=\"text\" name='nm'></p>\n",
    "        <p><input type=\"submit\"></p>    \n",
    "    </form>\n",
    "</body>\n",
    "</html>"
   ]
  },
  {
   "cell_type": "markdown",
   "metadata": {},
   "source": [
    "abort.py"
   ]
  },
  {
   "cell_type": "code",
   "execution_count": null,
   "metadata": {},
   "outputs": [],
   "source": [
    "from flask import Flask,redirect,url_for,render_template,request,abort\n",
    "\n",
    "app=Flask(__name__)\n",
    "\n",
    "@app.route('/')\n",
    "def index():\n",
    "    return render_template('login.html')\n",
    "\n",
    "\n",
    "@app.route('/login', methods=['POST', 'GET'])\n",
    "def login():\n",
    "    if request.method == 'POST':\n",
    "        if request.form['nm']=='admin':\n",
    "            return redirect(url_for('success'))\n",
    "        else:\n",
    "            abort(401)\n",
    "    else:\n",
    "        return redirect(url_for('index'))\n",
    "\n",
    "@app.route('/success')\n",
    "def success():\n",
    "    return \"<h1>Logged in succesfully!</h1>\"\n",
    "\n",
    "if __name__=='__main__':\n",
    "    app.run()"
   ]
  },
  {
   "cell_type": "markdown",
   "metadata": {},
   "source": [
    "mail.py"
   ]
  },
  {
   "cell_type": "code",
   "execution_count": null,
   "metadata": {},
   "outputs": [],
   "source": [
    "from flask import Flask\n",
    "from flask_mail import Mail, Message\n",
    "\n",
    "app=Flask(__name__)\n",
    "mail=Mail(app)\n",
    "\n",
    "app.config['MAIL_SERVER']='smtp.gamil.com'\n",
    "app.config['MAIL_PORT']=465\n",
    "app.config['MAIL_USERNAME']='abc@gamil.com'\n",
    "app.config['MAIL_PASSWORD']='123'\n",
    "app.config['MAIL_USE_TLC']=False\n",
    "app.config['MAIL_USE_SSL']=True\n",
    "mail=Mail(app)\n",
    "\n",
    "@app.route(\"/\")\n",
    "def index():\n",
    "    msg=Message(\"hello\",sender='xyz@gmail.com', recipients=['abc@gmail.com'])\n",
    "    msg.body=\"hello flask!\"\n",
    "    mail.send(msg)\n",
    "    return \"message sent\"\n",
    "\n",
    "if __name__=='__main__':\n",
    "    app.run(debug=True)"
   ]
  },
  {
   "cell_type": "markdown",
   "metadata": {},
   "source": [
    "wtf.py,wtf_main.py,contact.html"
   ]
  },
  {
   "cell_type": "code",
   "execution_count": null,
   "metadata": {},
   "outputs": [],
   "source": [
    "#wtf.py\n",
    "from flask_wtf import FlaskForm  \n",
    "from wtforms import StringField, IntegerField, TextAreaField, SubmitField, RadioField, SelectField\n",
    "from wtforms.validators import DataRequired, Email  \n",
    "\n",
    "class ContactForm(FlaskForm):\n",
    "    name = StringField(\"Name of Student\", [DataRequired(\"Please enter your name.\")])\n",
    "    Gender = RadioField(\"Gender\", choices=[('M', 'Male'), ('F', 'Female')])\n",
    "    Address = TextAreaField('Address')\n",
    "    email = StringField(\"Email\", validators=[DataRequired(\"Please enter your email address.\"), Email(\"Please enter a valid email address.\")])\n",
    "    Age = IntegerField(\"Age\")\n",
    "    language = SelectField('Language', choices=[('cpp', 'C++'), ('py', 'Python')])\n",
    "    submit = SubmitField('Send')"
   ]
  },
  {
   "cell_type": "code",
   "execution_count": null,
   "metadata": {},
   "outputs": [],
   "source": [
    "#wtf_main.py\n",
    "from flask import Flask, render_template, request, flash, redirect, url_for\n",
    "from wtf import ContactForm\n",
    "\n",
    "app = Flask(__name__)\n",
    "app.secret_key = 'development key'\n",
    "\n",
    "@app.route('/')\n",
    "def home():\n",
    "    return redirect(url_for('contact'))\n",
    "\n",
    "@app.route('/contact', methods=['GET', 'POST'])\n",
    "def contact():\n",
    "    form = ContactForm()\n",
    "\n",
    "    if request.method == 'POST':\n",
    "        if form.validate() == False:\n",
    "            flash(\"All fields are required\")\n",
    "            return render_template('contact.html', form=form)\n",
    "        else:\n",
    "            return render_template('success.html')\n",
    "    else:\n",
    "        return render_template('contact.html', form=form)\n",
    "\n",
    "if __name__ == \"__main__\":\n",
    "    app.run(debug=True)"
   ]
  },
  {
   "cell_type": "markdown",
   "metadata": {},
   "source": [
    "<!--contact.html-->\n",
    "<!DOCTYPE html>\n",
    "<html lang=\"en\">\n",
    "<head>\n",
    "    <meta charset=\"UTF-8\">\n",
    "    <title>Contact Form</title>\n",
    "</head>\n",
    "<body>\n",
    "    <h2>Contact Form</h2>\n",
    "\n",
    "    {% with messages = get_flashed_messages() %}\n",
    "        {% if messages %}\n",
    "            <ul>\n",
    "                {% for message in messages %}\n",
    "                    <li>{{ message }}</li>\n",
    "                {% endfor %}\n",
    "            </ul>\n",
    "        {% endif %}\n",
    "    {% endwith %}\n",
    "\n",
    "    {% for message in form.name.errors %}\n",
    "        <div style=\"color:red;\">{{ message }}</div>\n",
    "    {% endfor %}\n",
    "\n",
    "    <form action=\"http://localhost:5000/contact\" method=\"post\">\n",
    "        <fieldset>\n",
    "            <legend>Contact Form</legend>\n",
    "            {{ form.hidden_tag() }}\n",
    "            {{ form.name.label }}<br>\n",
    "            {{ form.name }}<br><br>\n",
    "\n",
    "            {{ form.Gender.label }}<br>\n",
    "            {{ form.Gender }}<br><br>\n",
    "\n",
    "            {{ form.Address.label }}<br>\n",
    "            {{ form.Address }}<br><br>\n",
    "\n",
    "            {{ form.email.label }}<br>\n",
    "            {{ form.email }}<br><br>\n",
    "\n",
    "            {{ form.Age.label }}<br>\n",
    "            {{ form.Age }}<br><br>\n",
    "\n",
    "            {{ form.language.label }}<br>\n",
    "            {{ form.language }}<br><br>\n",
    "\n",
    "            {{ form.submit }}\n",
    "        </fieldset>\n",
    "    </form>\n",
    "</body>\n",
    "</html>"
   ]
  },
  {
   "cell_type": "markdown",
   "metadata": {},
   "source": [
    "Database.py,index11.py"
   ]
  },
  {
   "cell_type": "code",
   "execution_count": null,
   "metadata": {},
   "outputs": [],
   "source": [
    "#Database.py\n",
    "from flask import Flask, render_template, request, redirect, url_for\n",
    "import sqlite3\n",
    "\n",
    "app = Flask(__name__, template_folder='templates')\n",
    "\n",
    "def init_db():\n",
    "    conn = sqlite3.connect('users.db')\n",
    "    cursor = conn.cursor()\n",
    "    cursor.execute('''\n",
    "        CREATE TABLE IF NOT EXISTS users (\n",
    "            id INTEGER PRIMARY KEY AUTOINCREMENT,\n",
    "            name TEXT NOT NULL,\n",
    "            email TEXT NOT NULL\n",
    "        )\n",
    "    ''')\n",
    "    conn.commit()\n",
    "    conn.close()\n",
    "\n",
    "@app.route('/')\n",
    "def index():\n",
    "    conn = sqlite3.connect('users.db')\n",
    "    cursor = conn.cursor()\n",
    "    cursor.execute(\"SELECT * FROM users\")\n",
    "    users = cursor.fetchall()\n",
    "    conn.close()\n",
    "    return render_template('index11.html', users=users)\n",
    "\n",
    "@app.route('/add', methods=['POST'])\n",
    "def add_user():\n",
    "    name = request.form['name']\n",
    "    email = request.form['email']\n",
    "    conn = sqlite3.connect('users.db')\n",
    "    cursor = conn.cursor()\n",
    "    cursor.execute(\"INSERT INTO users (name, email) VALUES (?, ?)\", (name, email))\n",
    "    conn.commit()\n",
    "    conn.close()\n",
    "    return redirect(url_for('index'))\n",
    "\n",
    "@app.route('/update/<int:user_id>', methods=['POST'])\n",
    "def update_user(user_id):\n",
    "    new_name = request.form['new_name']\n",
    "    new_email = request.form['new_email']\n",
    "    conn = sqlite3.connect('users.db')\n",
    "    cursor = conn.cursor()\n",
    "    cursor.execute(\"UPDATE users SET name = ?, email = ? WHERE id = ?\", (new_name, new_email, user_id))\n",
    "    conn.commit()\n",
    "    conn.close()\n",
    "    return redirect(url_for('index'))\n",
    "\n",
    "@app.route('/delete/<int:user_id>', methods=['POST'])\n",
    "def delete_user(user_id):\n",
    "    conn = sqlite3.connect('users.db')\n",
    "    cursor = conn.cursor()\n",
    "    cursor.execute(\"DELETE FROM users WHERE id = ?\", (user_id,))\n",
    "    conn.commit()\n",
    "    conn.close()\n",
    "    return redirect(url_for('index'))\n",
    "\n",
    "if __name__ == '__main__':\n",
    "    init_db()\n",
    "    app.run(debug=True)"
   ]
  },
  {
   "cell_type": "markdown",
   "metadata": {},
   "source": [
    "<!--index11.html-->\n",
    "<!DOCTYPE html>\n",
    "<html>\n",
    "<head>\n",
    "    <title>User Management</title>\n",
    "</head>\n",
    "<body>\n",
    "    <h1>User Management</h1>\n",
    "\n",
    "    <h2>Add New User</h2>\n",
    "    <form method=\"POST\" action=\"/add\">\n",
    "        Name: <input type=\"text\" name=\"name\" required><br><br>\n",
    "        Email: <input type=\"email\" name=\"email\" required><br><br>\n",
    "        <input type=\"submit\" value=\"Add User\">\n",
    "    </form>\n",
    "\n",
    "    <h2>Registered Users:</h2>\n",
    "    <ul>\n",
    "        {% for user in users %}\n",
    "            <li>\n",
    "                {{ user[1] }} - {{ user[2] }}\n",
    "                <form method=\"POST\" action=\"/update/{{ user[0] }}\" style=\"display:inline;\">\n",
    "                    <input type=\"text\" name=\"new_name\" placeholder=\"New Name\" required>\n",
    "                    <input type=\"email\" name=\"new_email\" placeholder=\"New Email\" required>\n",
    "                    <input type=\"submit\" value=\"Update\">\n",
    "                </form>\n",
    "\n",
    "                <!-- Delete User Button -->\n",
    "                <form method=\"POST\" action=\"/delete/{{ user[0] }}\" style=\"display:inline;\">\n",
    "                    <input type=\"submit\" value=\"Delete\">\n",
    "                </form>\n",
    "            </li>\n",
    "        {% endfor %}\n",
    "    </ul>\n",
    "</body>\n",
    "</html>"
   ]
  }
 ],
 "metadata": {
  "kernelspec": {
   "display_name": "Python 3",
   "language": "python",
   "name": "python3"
  },
  "language_info": {
   "name": "python",
   "version": "3.10.0"
  }
 },
 "nbformat": 4,
 "nbformat_minor": 2
}
